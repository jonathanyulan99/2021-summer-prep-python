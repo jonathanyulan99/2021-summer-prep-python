{
 "cells": [
  {
   "cell_type": "markdown",
   "metadata": {},
   "source": [
    "# Problem 1: Write a function thats input is a number and output is:\n",
    "* Return True if the input number is even.\n",
    "* Return False if the input number is odd."
   ]
  },
  {
   "cell_type": "code",
   "execution_count": 3,
   "metadata": {},
   "outputs": [
    {
     "name": "stdout",
     "output_type": "stream",
     "text": [
      "2 is Even\n",
      "24 is Even\n",
      "3 is Odd\n",
      "13 is Odd\n"
     ]
    }
   ],
   "source": [
    "# Solve problem 1 here\n",
    "def even_odd(input_number):\n",
    "    if input_number % 2 != 0: \n",
    "        print(f'{input_number} is Odd')\n",
    "    else: \n",
    "        print(f'{input_number} is Even')\n",
    "\n",
    "##even Test Case\n",
    "num1 = 2\n",
    "num2 = 24\n",
    "even_odd(num1)\n",
    "even_odd(num2)\n",
    "\n",
    "#odd Test Case\n",
    "num3 = 3 \n",
    "num4 = 13\n",
    "even_odd(num3)\n",
    "even_odd(num4)"
   ]
  },
  {
   "cell_type": "markdown",
   "metadata": {},
   "source": [
    "# Problem 2: Find the sum and the average of this list of numbers.\n",
    "\n",
    "Try doing this using a loop.  Then try doing this without using a loop. "
   ]
  },
  {
   "cell_type": "code",
   "execution_count": 10,
   "metadata": {},
   "outputs": [
    {
     "name": "stdout",
     "output_type": "stream",
     "text": [
      "353 35.3\n",
      "Sum:353 Average:35.3\n"
     ]
    }
   ],
   "source": [
    "# Solve problem 2 here:\n",
    "\n",
    "my_list = [1, 5, 10, 55, 88, 44, 42, 50, 20, 38]\n",
    "list_sum = 0; \n",
    "for item in my_list: \n",
    "    list_sum += item\n",
    "\n",
    "list_avg = (list_sum/len(my_list))\n",
    "\n",
    "\n",
    "# Keep this as your last line in this cell.\n",
    "print(list_sum, list_avg)\n",
    "print(\"Sum:\" + str(sum(my_list)) + \" Average:\" + str(sum(my_list)/len(my_list)))"
   ]
  },
  {
   "cell_type": "markdown",
   "metadata": {},
   "source": [
    "# Problem 3:  Using a dictionary, count the words in this sentence. \n",
    "* Hint, you can use `.split()` to split a string into a list. "
   ]
  },
  {
   "cell_type": "code",
   "execution_count": 25,
   "metadata": {},
   "outputs": [
    {
     "name": "stdout",
     "output_type": "stream",
     "text": [
      "72\n",
      "72\n"
     ]
    }
   ],
   "source": [
    "# Solve problem 3 here:\n",
    "\n",
    "my_string = '''The Oklahoma City Zoo and Botanical Garden is a zoo and botanical garden located in Oklahoma City's Adventure District in northeast Oklahoma City, Oklahoma. The zoo covers 119 acres (48 ha) and is home to more than 1,900 animals. It is open every day except Thanksgiving, Christmas, and New Year's Day. The Oklahoma City Zoo is an accredited member of the Association of Zoos and Aquariums and the American Alliance of Museums.'''\n",
    "my_new_string = my_string.split(\" \")\n",
    "my_dict = dict()\n",
    "my_dict_2 = dict()\n",
    "\n",
    "index= 0\n",
    "for item in my_new_string:\n",
    "    my_dict[index] = item\n",
    "    index += 1\n",
    "\n",
    "## len=1-index-start \n",
    "## \n",
    "print(len(my_dict))\n",
    "\n",
    "## set count of one and then just output the max or a counter for the keys \n",
    "index_2 = 1\n",
    "for item_2 in my_string.split(\" \"):\n",
    "    my_dict_2[index_2] = item_2\n",
    "    index_2 += 1\n",
    "\n",
    "print(max(my_dict_2.keys()))"
   ]
  },
  {
   "cell_type": "markdown",
   "metadata": {},
   "source": [
    "# Problem 4: Write a function that input is a number and output returns the following\n",
    "* If the input is divisible by three, return 'fizz'\n",
    "* If the input is divisible by five, return 'buzz'\n",
    "* If the input is divisible by three and by five, return 'fizzbuzz'\n",
    "* If the input is not divisible by three or five, return None."
   ]
  },
  {
   "cell_type": "code",
   "execution_count": 35,
   "metadata": {},
   "outputs": [
    {
     "name": "stdout",
     "output_type": "stream",
     "text": [
      "fizz\n",
      "buzz\n",
      "fizzbuzz\n",
      "none\n",
      "23:none\n",
      "15:fizzbuzz\n",
      "5:buzz\n",
      "3:fizz\n"
     ]
    }
   ],
   "source": [
    "# Solve Problem 4 here:\n",
    "def fizz_buzz(input_num):\n",
    "    if input_num%3 == 0 and input_num%5 == 0:\n",
    "        print('fizzbuzz')\n",
    "    elif input_num%3 != 0 and input_num%5 == 0:\n",
    "        print('buzz')\n",
    "    elif input_num%5 != 0 and input_num%3 == 0:\n",
    "        print('fizz')\n",
    "    else:\n",
    "        print('none')\n",
    "\n",
    "fizz_buzz_num1 = 3\n",
    "fizz_buzz_num2 = 5\n",
    "fizz_buzz_num3 = 15\n",
    "fizz_buzz_num4 = 23\n",
    "\n",
    "fizz_buzz(fizz_buzz_num1)\n",
    "fizz_buzz(fizz_buzz_num2)\n",
    "fizz_buzz(fizz_buzz_num3)\n",
    "fizz_buzz(fizz_buzz_num4)\n",
    "\n",
    "def fizz_buzz(input_num):\n",
    "    if input_num%3 == 0 and input_num%5 == 0:\n",
    "        return('fizzbuzz')\n",
    "    elif input_num%3 != 0 and input_num%5 == 0:\n",
    "        return('buzz')\n",
    "    elif input_num%5 != 0 and input_num%3 == 0:\n",
    "        return('fizz')\n",
    "    else:\n",
    "        return('none')\n",
    "    \n",
    "print(\"23:\" + fizz_buzz(23))\n",
    "print(\"15:\" + fizz_buzz(15))\n",
    "print(\"5:\" + fizz_buzz(5))\n",
    "print(\"3:\" + fizz_buzz(3))"
   ]
  },
  {
   "cell_type": "markdown",
   "metadata": {},
   "source": [
    "# Problem 5: \n",
    "Write a function that takes a list and returns a new list that contains all the elements of the first list minus all the duplicates.\n",
    "\n",
    "Example input and expected output\n",
    "\n",
    "input = [\"Michele\", \"Robin\", \"Sara\", \"Michele\"]\n",
    "\n",
    "expected output = ['Michele', 'Robin', 'Sara']\n"
   ]
  },
  {
   "cell_type": "code",
   "execution_count": 47,
   "metadata": {},
   "outputs": [
    {
     "name": "stdout",
     "output_type": "stream",
     "text": [
      "{'Sara', 'Robin', 'Michele'}\n",
      "{'Sara', 'Robin', 'Michele'}\n",
      "['Michele', 'Robin', 'Sara']\n",
      "['Sara', 'Robin', 'Michele']\n"
     ]
    }
   ],
   "source": [
    "# Solve problem 5 here:\n",
    "\n",
    "names = [\"Michele\", \"Robin\", \"Sara\", \"Michele\"]\n",
    "names2 = [\"Michele\", \"Robin\", \"Sara\", \"Michele\"]\n",
    "names3 = [\"Michele\", \"Robin\", \"Sara\", \"Michele\"]\n",
    "\n",
    "#lazy answer \n",
    "names_2 = set(names)\n",
    "print(names_2)\n",
    "\n",
    "\n",
    "#Use built in set class to remove duplicates\n",
    "def convert_set(input_list):\n",
    "    return set(input_list)\n",
    "\n",
    "print(convert_set(names))\n",
    "\n",
    "##Use a dictionary to remove all duplicate keys \n",
    "def convert_set_2(input_list):\n",
    "    answer = dict() \n",
    "    return_answer = []\n",
    "    \n",
    "    #1 based index because of value of key not index \n",
    "    counter = 1 \n",
    "    for item in input_list:\n",
    "        answer[item] = counter\n",
    "        counter += 1 \n",
    "    \n",
    "    # 0 based index\n",
    "    counter_2 = 0 \n",
    "    for item in answer.keys():\n",
    "        return_answer.append(item) \n",
    "        counter_2 += 1\n",
    "    \n",
    "    return return_answer \n",
    "\n",
    "print(convert_set_2(names2))\n",
    "\n",
    "def convert_set_3(input_list):\n",
    "    answer = dict() \n",
    "    return_answer = []\n",
    "    \n",
    "    #1 based index because of value of key not index \n",
    "    counter = 1 \n",
    "    for item in input_list:\n",
    "        answer[item] = counter\n",
    "        counter += 1 \n",
    "    \n",
    "    # 0 based index\n",
    "    for item in answer.keys():\n",
    "        #insert(x,y) method to add in a specific location of the list \n",
    "        #0 always add to the front of the list versus append to the back\n",
    "        return_answer.insert(0, item)\n",
    "    \n",
    "    return return_answer \n",
    "\n",
    "print(convert_set_3(names3))"
   ]
  },
  {
   "cell_type": "markdown",
   "metadata": {},
   "source": [
    "# Problem 6: \n",
    "Write a function that takes a list of numbers (for example, a = [5, 10, 15, 20, 25]) and returns a new list of only the first and last elements of the given list.\n",
    "\n",
    "Example input and expected output:\n",
    "\n",
    "input = [5, 10, 15, 20, 25]\n",
    "\n",
    "expected output = [5, 25]"
   ]
  },
  {
   "cell_type": "code",
   "execution_count": 57,
   "metadata": {},
   "outputs": [
    {
     "name": "stdout",
     "output_type": "stream",
     "text": [
      "[5, 25]\n"
     ]
    }
   ],
   "source": [
    "# Solve problem 6 here:\n",
    "\n",
    "input_list = [5, 10, 99, 20, 25]\n",
    "\n",
    "def first_last_in_list(input_list):\n",
    "    input_list = input_list[:1] + input_list[len(input_list)-1:]\n",
    "    return input_list\n",
    "\n",
    "print(first_last_in_list(input_list))\n"
   ]
  },
  {
   "cell_type": "markdown",
   "metadata": {},
   "source": [
    "# Problem 7:  Implement a function that takes as input three variables, and returns the largest of the three. \n",
    "Do this without using the Python max() function! \n",
    "_*Note all three input numbers will always be different, no need to account for a tie._\n",
    "\n",
    "Example input and expected output:\n",
    "\n",
    "input = your_function(1, 5, 10)\n",
    "\n",
    "expected output:  10"
   ]
  },
  {
   "cell_type": "code",
   "execution_count": 58,
   "metadata": {},
   "outputs": [],
   "source": [
    "# Solve Problem 7 here:\n",
    "\n",
    "def your_function(a, b, c):\n",
    "    # Fill in your code below and return max value of a, b, c\n",
    "    return max(a,b,c)\n",
    "\n",
    "def your_function_2(a, b, c):\n",
    "    max_list= max_list.sort(a, b ,c)\n",
    "    return max_list[len(max_list)-1]"
   ]
  },
  {
   "cell_type": "code",
   "execution_count": 59,
   "metadata": {},
   "outputs": [
    {
     "data": {
      "text/plain": [
       "10"
      ]
     },
     "execution_count": 59,
     "metadata": {},
     "output_type": "execute_result"
    }
   ],
   "source": [
    "# Test to see if your function works properly.\n",
    "your_function(1, 5, 10)"
   ]
  },
  {
   "cell_type": "code",
   "execution_count": 61,
   "metadata": {},
   "outputs": [
    {
     "data": {
      "text/plain": [
       "75"
      ]
     },
     "execution_count": 61,
     "metadata": {},
     "output_type": "execute_result"
    }
   ],
   "source": [
    "your_function(20,40,75)"
   ]
  },
  {
   "cell_type": "code",
   "execution_count": 70,
   "metadata": {},
   "outputs": [
    {
     "name": "stdout",
     "output_type": "stream",
     "text": [
      "75\n"
     ]
    }
   ],
   "source": [
    "def your_function_2(a, b, c):\n",
    "    if c > b and c > a:\n",
    "        return c \n",
    "    if b > a and b > c:\n",
    "        return b \n",
    "    else: \n",
    "        return a\n",
    "\n",
    "print(your_function_2(20,40,75))"
   ]
  },
  {
   "cell_type": "code",
   "execution_count": null,
   "metadata": {},
   "outputs": [],
   "source": []
  }
 ],
 "metadata": {
  "kernelspec": {
   "display_name": "Python 3",
   "language": "python",
   "name": "python3"
  },
  "language_info": {
   "codemirror_mode": {
    "name": "ipython",
    "version": 3
   },
   "file_extension": ".py",
   "mimetype": "text/x-python",
   "name": "python",
   "nbconvert_exporter": "python",
   "pygments_lexer": "ipython3",
   "version": "3.8.8"
  }
 },
 "nbformat": 4,
 "nbformat_minor": 4
}
